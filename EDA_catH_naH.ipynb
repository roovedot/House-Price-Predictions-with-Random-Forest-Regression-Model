{
 "cells": [
  {
   "cell_type": "markdown",
   "metadata": {},
   "source": [
    "# EDA, Handling Categorical Values and Handling Missing Values"
   ]
  },
  {
   "cell_type": "markdown",
   "metadata": {},
   "source": [
    "## Imports & Load Data:"
   ]
  },
  {
   "cell_type": "code",
   "execution_count": null,
   "metadata": {},
   "outputs": [],
   "source": [
    "import os\n",
    "import pandas as pd\n",
    "import seaborn as sns\n",
    "import matplotlib.pyplot as plt\n",
    "\n",
    "#Complete Route to proyect directory\n",
    "os.chdir(\"/media/roovedot/common/VSrootWorkspace/House-Price-Predictions-with-Random-Forest-Regression-Model\")\n",
    "#Load data from Train file\n",
    "housing = pd.read_csv(\"data/train.csv\")\n",
    "housing.head() #Preview of data to check correct Load\n"
   ]
  },
  {
   "cell_type": "markdown",
   "metadata": {},
   "source": [
    "## Getting to know the Data:\n"
   ]
  },
  {
   "cell_type": "markdown",
   "metadata": {},
   "source": [
    "### Basic Info"
   ]
  },
  {
   "cell_type": "code",
   "execution_count": null,
   "metadata": {},
   "outputs": [],
   "source": [
    "\n",
    "housing.info()"
   ]
  },
  {
   "cell_type": "markdown",
   "metadata": {},
   "source": [
    "### Distributions for every Column"
   ]
  },
  {
   "cell_type": "code",
   "execution_count": null,
   "metadata": {},
   "outputs": [],
   "source": [
    "for col in housing.select_dtypes(include=['int64', 'float64']).columns:\n",
    "    plt.figure(figsize=(10, 6))  # Set figure size\n",
    "\n",
    "    sns.displot(housing[col])\n",
    "    \n",
    "    # Set plot title and labels\n",
    "    plt.title(f'Distribution of {col}')\n",
    "    plt.xlabel(col)\n",
    "    plt.ylabel('Frequency')\n",
    "    \n",
    "    # Display the plot\n",
    "    plt.show()"
   ]
  },
  {
   "cell_type": "markdown",
   "metadata": {},
   "source": [
    "## Initial Correlations:"
   ]
  },
  {
   "cell_type": "code",
   "execution_count": null,
   "metadata": {},
   "outputs": [],
   "source": [
    "# Select all numeric columns\n",
    "hous_num = housing.select_dtypes(include=['float64', 'int64'])\n",
    "\n",
    "# Get each Feature's correlation with 'SalePrice'\n",
    "hous_num_corr = hous_num.corr()['SalePrice'].sort_values(ascending=False)  # Ordenar de mayor a menor\n",
    "\n",
    "# Print all correlations in order\n",
    "for var, corr in hous_num_corr.items():\n",
    "    print(f\"{var}: {corr:.3f}\") # corr:.2f formats corr values to 2 decimals"
   ]
  },
  {
   "cell_type": "markdown",
   "metadata": {},
   "source": [
    "## Categorical Values:"
   ]
  },
  {
   "cell_type": "markdown",
   "metadata": {},
   "source": [
    "### Encoding Categorical Values (with One-hot Encoding)"
   ]
  },
  {
   "cell_type": "code",
   "execution_count": null,
   "metadata": {},
   "outputs": [],
   "source": [
    "house_cat = housing.select_dtypes(include=['object'])  # Select categorical columns\n",
    "house_cat_encoded = pd.get_dummies(house_cat, dummy_na=True)  # One-hot encode categorical variables. dummy_na creates a column indicating missing value\n",
    "\n",
    "# Join \"Saleprice\" Target to hous_cat_encoded\n",
    "# axis=1 Ensures SalePrice gets Passed as a Column and not a row\n",
    "house_cat_encoded = pd.concat([house_cat_encoded, housing[\"SalePrice\"]], axis=1) \n",
    "\n",
    "# Get correlations of each Category with the Target\n",
    "house_cat_encoded_corr = house_cat_encoded.corr()['SalePrice'].sort_values(ascending=False)  # Ordenar de mayor a menor\n",
    "\n",
    "# Print all correlations in order\n",
    "for var, corr in house_cat_encoded_corr.items():\n",
    "    print(f\"{var}: {corr:.3f}\") # corr:.2f formats corr values to 2 decimals'''\n"
   ]
  },
  {
   "cell_type": "code",
   "execution_count": null,
   "metadata": {},
   "outputs": [],
   "source": [
    "house_cat_encoded.columns.tolist()"
   ]
  },
  {
   "cell_type": "markdown",
   "metadata": {},
   "source": [
    "### Keeping only Valuable Categories:"
   ]
  },
  {
   "cell_type": "code",
   "execution_count": null,
   "metadata": {},
   "outputs": [],
   "source": [
    "# Drop all Columns which have an Correlation below 0.4 Absolute Value\n",
    "for col, corr in house_cat_encoded_corr.items():\n",
    "    # If the absolute value of the correlation is less than 0.4\n",
    "    \n",
    "    if (abs(corr) < 0.4 and col in house_cat_encoded.columns) or pd.isna(corr):\n",
    "        # inplace=True ensures operating on the original Dataframe\n",
    "        # axis=1 tells drop() method we are dropping columns and not rows\n",
    "        house_cat_encoded.drop(columns=col, axis=1, inplace=True)  # Drop Column\n",
    "\n",
    "# Remove 'SalePrice' before merging with the original DataFrame\n",
    "house_cat_encoded.drop(columns='SalePrice', axis=1, inplace=True)\n",
    "\n",
    "# Convert all boolean columns in the DataFrame to integer type for compatibility\n",
    "house_cat_encoded = house_cat_encoded.astype(int)\n",
    "\n",
    "house_cat_encoded.info()"
   ]
  },
  {
   "cell_type": "markdown",
   "metadata": {},
   "source": [
    "### Merge Encoded Data:"
   ]
  },
  {
   "cell_type": "code",
   "execution_count": null,
   "metadata": {},
   "outputs": [],
   "source": [
    "# Concatenate Selected encoded categorical variables with the original dataframe\n",
    "housing = pd.concat([housing, house_cat_encoded], axis=1)\n",
    "\n",
    "# Drop the original categorical columns to avoid redundancy\n",
    "housing = housing.drop(columns=house_cat.columns)\n",
    "\n",
    "housing.info()"
   ]
  },
  {
   "cell_type": "markdown",
   "metadata": {},
   "source": [
    "## Missing Values:"
   ]
  },
  {
   "cell_type": "markdown",
   "metadata": {},
   "source": [
    "Most of the missing Values were on categorical Columns, which we have already handled with One-Hot Encoding, even getting valuable info from missing values, like the case of FireplaceQu_nan, with a correlation of -0.472"
   ]
  },
  {
   "cell_type": "code",
   "execution_count": null,
   "metadata": {},
   "outputs": [],
   "source": [
    "# 20 Columns with the most missing Values\n",
    "housing.isnull().sum().sort_values(ascending=False).head()"
   ]
  },
  {
   "cell_type": "markdown",
   "metadata": {},
   "source": [
    "The missing values in LotFrontage, GarageYrBlt and MasVnrArea probably mean these features are not on the house.  \n",
    "\n",
    "Since I think them missing is actually valuable information, I will create a boolean column for each one indicating if the value is missing, and I will set the value of the feature to 0 except for GarageYrBlt."
   ]
  },
  {
   "cell_type": "markdown",
   "metadata": {},
   "source": [
    "### Handling Missing Values:"
   ]
  },
  {
   "cell_type": "code",
   "execution_count": null,
   "metadata": {},
   "outputs": [],
   "source": [
    "# WARNING: If you execute this cell more than once, it will set all the indicator columns to 0, making it useless\n",
    "\n",
    "housing_na = housing[[\"LotFrontage\", \"GarageYrBlt\", \"MasVnrArea\"]]\n",
    "\n",
    "for column in housing_na.columns:\n",
    "    if column == \"GarageYrBlt\": # For GarageYrBlt, we will set the value to the mean instead of 0\n",
    "        #Create column indicating if value was missing\n",
    "        housing[f'{column}_nan'] = housing[column].isnull().astype(int)\n",
    "\n",
    "        # Impute missing values with value 0\n",
    "        housing[column].fillna(housing[\"GarageYrBlt\"].mean(), inplace=True)\n",
    "    else:\n",
    "        #Create column indicating if value was missing\n",
    "        housing[f'{column}_nan'] = housing[column].isnull().astype(int)\n",
    "\n",
    "        # Impute missing values with value 0\n",
    "        housing[column].fillna(0, inplace=True)\n",
    "\n",
    "housing.info()\n"
   ]
  },
  {
   "cell_type": "markdown",
   "metadata": {},
   "source": [
    "## Updated Correlations:"
   ]
  },
  {
   "cell_type": "code",
   "execution_count": null,
   "metadata": {},
   "outputs": [],
   "source": [
    "housing.info() #Check data is properly transformed"
   ]
  },
  {
   "cell_type": "code",
   "execution_count": null,
   "metadata": {},
   "outputs": [],
   "source": [
    "# Get each Feature's correlation with 'SalePrice'\n",
    "housing_corr = housing.corr()['SalePrice'].sort_values(ascending=False)  # Ordenar de mayor a menor\n",
    "\n",
    "# Print all correlations in order\n",
    "for var, corr in housing_corr.items():\n",
    "    print(f\"{var}: {corr:.3f}\") # corr:.2f formats corr values to 2 decimals"
   ]
  },
  {
   "cell_type": "markdown",
   "metadata": {},
   "source": [
    "## Saving File for the Next Step of Cleaning: "
   ]
  },
  {
   "cell_type": "code",
   "execution_count": 8,
   "metadata": {},
   "outputs": [],
   "source": [
    "housing.to_csv('data/train_catH_naH.csv')"
   ]
  }
 ],
 "metadata": {
  "kernelspec": {
   "display_name": "Python 3",
   "language": "python",
   "name": "python3"
  },
  "language_info": {
   "codemirror_mode": {
    "name": "ipython",
    "version": 3
   },
   "file_extension": ".py",
   "mimetype": "text/x-python",
   "name": "python",
   "nbconvert_exporter": "python",
   "pygments_lexer": "ipython3",
   "version": "3.12.3"
  }
 },
 "nbformat": 4,
 "nbformat_minor": 2
}
