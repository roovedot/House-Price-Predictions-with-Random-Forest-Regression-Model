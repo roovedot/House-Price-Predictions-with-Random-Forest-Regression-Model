{
 "cells": [
  {
   "cell_type": "markdown",
   "metadata": {},
   "source": [
    "## Setup:"
   ]
  },
  {
   "cell_type": "code",
   "execution_count": null,
   "metadata": {},
   "outputs": [],
   "source": [
    "import pandas as pd\n",
    "import os\n",
    "import seaborn as sns\n",
    "import matplotlib.pyplot as plt\n",
    "\n",
    "# Setup Route to your proyect directory \n",
    "os.chdir(\"/media/roovedot/common/VSrootWorkspace/House-Price-Predictions-with-Random-Forest-Regression-Model\")\n",
    "\n",
    "housing = pd.read_csv('data/train_catH_naH.csv')\n",
    "housing.info()\n"
   ]
  },
  {
   "cell_type": "markdown",
   "metadata": {},
   "source": [
    "## Boxplots for every Variable:"
   ]
  },
  {
   "cell_type": "code",
   "execution_count": null,
   "metadata": {},
   "outputs": [],
   "source": [
    "for column in housing.columns:\n",
    "\n",
    "    plt.figure(figsize=(10, 6)) # Create new figure for each Feature\n",
    "\n",
    "    sns.boxplot(x=housing[column]) # Plot the Feature\n",
    "\n",
    "    plt.show() # Print Plot"
   ]
  },
  {
   "cell_type": "markdown",
   "metadata": {},
   "source": [
    "## Lot-Related Outliers:"
   ]
  },
  {
   "cell_type": "code",
   "execution_count": null,
   "metadata": {},
   "outputs": [],
   "source": [
    "sns.pairplot(housing, x_vars=[\"LotFrontage\"], y_vars=[\"SalePrice\"], height=6, aspect=1.5)\n",
    "sns.pairplot(housing, x_vars=[\"SalePrice\"], y_vars=[\"LotArea\"], height=6, aspect=1.5)"
   ]
  },
  {
   "cell_type": "code",
   "execution_count": null,
   "metadata": {},
   "outputs": [],
   "source": [
    "# Select the 4 rows with biggest LotArea\n",
    "top_lot_area = housing.sort_values(by='LotArea', ascending=False).head(4)\n",
    "\n",
    "# Print the index and 'LotArea' values of the top 4 observations\n",
    "for index, row in top_lot_area.iterrows():\n",
    "    print(f'Dropping index {index}, LotArea {row[\"LotArea\"]}')"
   ]
  },
  {
   "cell_type": "code",
   "execution_count": null,
   "metadata": {},
   "outputs": [],
   "source": [
    "housing.drop(index=top_lot_area.index, inplace=True)\n",
    "\n",
    "sns.pairplot(housing, x_vars=[\"SalePrice\"], y_vars=[\"LotArea\"], height=6, aspect=1.5)"
   ]
  },
  {
   "cell_type": "code",
   "execution_count": null,
   "metadata": {},
   "outputs": [],
   "source": [
    "# Select the 2 rows with biggest LotFrontage\n",
    "top_lot_frontage = housing.sort_values(by='LotFrontage', ascending=False).head(2)\n",
    "\n",
    "# Print the index and 'LotArea' values of the top 5 observations\n",
    "for index, row in top_lot_frontage.iterrows():\n",
    "    print(f'Dropping index {index}, LotFrontage {row[\"LotFrontage\"]}')"
   ]
  },
  {
   "cell_type": "code",
   "execution_count": null,
   "metadata": {},
   "outputs": [],
   "source": [
    "housing.drop(index=top_lot_frontage.index, inplace=True)\n",
    "\n",
    "sns.pairplot(housing, x_vars=[\"LotFrontage\"], y_vars=[\"SalePrice\"], height=6, aspect=1.5)"
   ]
  },
  {
   "cell_type": "markdown",
   "metadata": {},
   "source": [
    "## Check Boxplots for every Variable:"
   ]
  },
  {
   "cell_type": "code",
   "execution_count": null,
   "metadata": {},
   "outputs": [],
   "source": [
    "for column in housing.columns:\n",
    "\n",
    "    plt.figure(figsize=(10, 6)) # Create new figure for each Feature\n",
    "\n",
    "    sns.boxplot(x=housing[column]) # Plot the Feature\n",
    "\n",
    "    plt.show() # Print Plot"
   ]
  },
  {
   "cell_type": "markdown",
   "metadata": {},
   "source": [
    "## Save file for Next Step:"
   ]
  },
  {
   "cell_type": "code",
   "execution_count": 7,
   "metadata": {},
   "outputs": [],
   "source": [
    "housing.to_csv('data/train_catH_naH_outlH.csv')"
   ]
  }
 ],
 "metadata": {
  "kernelspec": {
   "display_name": "Python 3",
   "language": "python",
   "name": "python3"
  },
  "language_info": {
   "codemirror_mode": {
    "name": "ipython",
    "version": 3
   },
   "file_extension": ".py",
   "mimetype": "text/x-python",
   "name": "python",
   "nbconvert_exporter": "python",
   "pygments_lexer": "ipython3",
   "version": "3.12.3"
  }
 },
 "nbformat": 4,
 "nbformat_minor": 2
}
