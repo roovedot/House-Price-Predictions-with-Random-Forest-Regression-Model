{
 "cells": [
  {
   "cell_type": "markdown",
   "metadata": {},
   "source": [
    "## Setup:"
   ]
  },
  {
   "cell_type": "code",
   "execution_count": null,
   "metadata": {},
   "outputs": [],
   "source": [
    "import pandas as pd\n",
    "import os \n",
    "from sklearn.feature_selection import RFECV\n",
    "from sklearn.model_selection import KFold, GridSearchCV, cross_val_score\n",
    "from sklearn.ensemble import RandomForestRegressor\n",
    "from sklearn.metrics import mean_absolute_error\n",
    "import numpy as np\n",
    "\n",
    "os.chdir('/media/roovedot/common/VSrootWorkspace/House-Price-Predictions-with-Random-Forest-Regression-Model')\n",
    "\n",
    "housing = pd.read_csv('data/train_catH_naH_outlH.csv')\n",
    "housing.info()"
   ]
  },
  {
   "cell_type": "code",
   "execution_count": 2,
   "metadata": {},
   "outputs": [],
   "source": [
    "# Set up Target and Features\n",
    "X = housing.drop(['SalePrice', 'Unnamed: 0', 'Unnamed: 0.1', 'Id'], axis=1)\n",
    "y = housing['SalePrice']"
   ]
  },
  {
   "cell_type": "markdown",
   "metadata": {},
   "source": [
    "## Feature Selection:"
   ]
  },
  {
   "cell_type": "markdown",
   "metadata": {},
   "source": [
    "### Getting Correlations"
   ]
  },
  {
   "cell_type": "code",
   "execution_count": null,
   "metadata": {},
   "outputs": [],
   "source": [
    "# Get correlations of each Category with the Target\n",
    "housing_corr = housing.corr()['SalePrice'].sort_values(ascending=False)  # Ordenar de mayor a menor\n",
    "\n",
    "# Print all correlations in order\n",
    "for var, corr in housing_corr.items():\n",
    "    print(f\"{var}: {corr:.3f}\") # corr:.2f formats corr values to 2 decimals'''"
   ]
  },
  {
   "cell_type": "markdown",
   "metadata": {},
   "source": [
    "### Dropping Correlations below 0.4 Absolute Value:"
   ]
  },
  {
   "cell_type": "code",
   "execution_count": null,
   "metadata": {},
   "outputs": [],
   "source": [
    "# Drop all Columns which have an Correlation below 0.4 Absolute Value\n",
    "for col, corr in housing_corr.items():\n",
    "    # If the absolute value of the correlation is less than 0.4 \n",
    "    if abs(corr) < 0.4 and col in X.columns:\n",
    "        # inplace=True ensures operating on the original Dataframe\n",
    "        # axis=1 tells drop() method we are dropping columns and not rows\n",
    "        X.drop(columns=col, axis=1, inplace=True)  # Drop Column\n",
    "\n",
    "X.info()\n",
    "\n"
   ]
  },
  {
   "cell_type": "markdown",
   "metadata": {},
   "source": [
    "### Recursive Feature Elimination (RFE) with Cross-Validation:"
   ]
  },
  {
   "cell_type": "code",
   "execution_count": null,
   "metadata": {},
   "outputs": [],
   "source": [
    "rf = RandomForestRegressor(random_state=42) # initialize model\n",
    "kf = KFold(n_splits=5, shuffle=True, random_state=42) # Setup Cross-Validation\n",
    "\n",
    "# RFECV will determine the optimal number of features\n",
    "rfecv = RFECV(estimator=rf, step=1, cv=kf, scoring='neg_mean_absolute_error') #Setup RFE\n",
    "print(\"Training Model...\")\n",
    "rfecv.fit(X,y) # Train Model"
   ]
  },
  {
   "cell_type": "code",
   "execution_count": null,
   "metadata": {},
   "outputs": [],
   "source": [
    "# Select the optimal features based on RFE\n",
    "X_optimal = X[X.columns[rfecv.support_]]\n",
    "X_optimal.info()\n",
    "X_optimal.to_csv('data/optimalFeatures.csv')"
   ]
  },
  {
   "cell_type": "markdown",
   "metadata": {},
   "source": [
    "## Testing the effects of feature selection:"
   ]
  },
  {
   "cell_type": "code",
   "execution_count": null,
   "metadata": {},
   "outputs": [],
   "source": [
    "kf = KFold(n_splits=5, shuffle=True)#, random_state=15) # Initialize cross-validation\n",
    "X_full = housing.drop(columns=['SalePrice', 'Unnamed: 0', 'Unnamed: 0.1', 'Id'])\n",
    "\n",
    "# Model 1: Random Forest with all features\n",
    "rf_full = RandomForestRegressor()#random_state=13)\n",
    "mae_full = -cross_val_score(rf_full, X_full, y, cv=kf, scoring='neg_mean_absolute_error')\n",
    "print(\"Mean MAE with all features:\", np.mean(mae_full))"
   ]
  },
  {
   "cell_type": "code",
   "execution_count": 4,
   "metadata": {},
   "outputs": [],
   "source": [
    "#Quick Setup:\n",
    "X_optimal = pd.read_csv('data/optimalFeatures.csv')"
   ]
  },
  {
   "cell_type": "code",
   "execution_count": null,
   "metadata": {},
   "outputs": [],
   "source": [
    "# Model 2: Random Forest with selected optimal features\n",
    "rf_optimal = RandomForestRegressor()#random_state=42)\n",
    "mae_optimal = -cross_val_score(rf_optimal, X_optimal, y, cv=kf, scoring='neg_mean_absolute_error')\n",
    "print(\"Mean MAE with optimal features:\", np.mean(mae_optimal))"
   ]
  },
  {
   "cell_type": "markdown",
   "metadata": {},
   "source": [
    "## HyperParameter Tuning:"
   ]
  },
  {
   "cell_type": "markdown",
   "metadata": {},
   "source": [
    "### With \"optimal\" Features:"
   ]
  },
  {
   "cell_type": "code",
   "execution_count": null,
   "metadata": {},
   "outputs": [],
   "source": [
    "# Define the parameter grid\n",
    "\n",
    "# INITIAL PARAM GRID:\n",
    "''' \n",
    "param_grid = {\n",
    "    'n_estimators': [100, 200, 500],\n",
    "    'max_depth': [None, 10, 20, 30],\n",
    "    'min_samples_split': [2, 5, 10],\n",
    "    'min_samples_leaf': [1, 2, 4],\n",
    "    'max_features': ['auto', 'sqrt', 'log2']\n",
    "}\n",
    "'''\n",
    "\n",
    "param_grid = {\n",
    "    'n_estimators': [650, 700, 800, 900, 1000],\n",
    "    'max_depth': [25, 30, 40, 50],\n",
    "    'min_samples_split': [1, 2, 3],\n",
    "    'min_samples_leaf': [1],\n",
    "    'max_features': ['sqrt']\n",
    "}\n",
    "\n",
    "# Set up GridSearchCV with cross-validation\n",
    "rf_tuned = RandomForestRegressor(random_state=63) # Initialize Model\n",
    "grid_search = GridSearchCV( # Setup Grid Search\n",
    "    estimator=rf_tuned, # model\n",
    "    param_grid=param_grid, # param grid\n",
    "    cv=5, # nº of folds for cross-validation\n",
    "    scoring='neg_mean_absolute_error', # measures performance by negative MAE (This is because GridSearch wants to find the MAXIMUM value of the metric. By making it negative, we assure it will find the LOWEST MAE possible)\n",
    "    n_jobs=-1 # use all CPU cores possible\n",
    ")\n",
    "\n",
    "# Initialize grid Search \n",
    "grid_search.fit(X_optimal, y)\n",
    "\n",
    "# Get the best parameters and score\n",
    "print(\"Best parameters:\", grid_search.best_params_)\n",
    "print(\"Best MAE with optimal features:\", -grid_search.best_score_)"
   ]
  },
  {
   "cell_type": "markdown",
   "metadata": {},
   "source": [
    "**First Result:**  \n",
    "Best parameters: {'max_depth': 30, 'max_features': 'sqrt', 'min_samples_leaf': 1, 'min_samples_split': 2, 'n_estimators': 500}  \n",
    "Best MAE with optimal features: 17608.179334058535  \n",
    "\n",
    "**Second Result:**  \n",
    "Best parameters: {'max_depth': 30, 'max_features': 'sqrt', 'min_samples_leaf': 1, 'min_samples_split': 2, 'n_estimators': 700}  \n",
    "Best MAE with optimal features: 17607.785862170535  \n",
    "\n",
    "**Third Result:**  \n",
    "Best parameters: {'max_depth': 30, 'max_features': 'sqrt', 'min_samples_leaf': 1, 'min_samples_split': 2, 'n_estimators': 800}  \n",
    "Best MAE with optimal features: 17593.4855390538  "
   ]
  },
  {
   "cell_type": "markdown",
   "metadata": {},
   "source": [
    "### With All Features:"
   ]
  },
  {
   "cell_type": "code",
   "execution_count": null,
   "metadata": {},
   "outputs": [],
   "source": [
    "# Define the parameter grid\n",
    "\n",
    "# INITIAL PARAM GRID:\n",
    "\n",
    "'''param_grid = {\n",
    "    'n_estimators': [100, 200, 500],\n",
    "    'max_depth': [None, 10, 20, 30],\n",
    "    'min_samples_split': [2, 5, 10],\n",
    "    'min_samples_leaf': [1, 2, 4],\n",
    "    'max_features': ['auto', 'sqrt', 'log2']\n",
    "}'''\n",
    "\n",
    "\n",
    "param_grid = {\n",
    "    'n_estimators': [850, 900, 950],\n",
    "    'max_depth': [30,35,40],\n",
    "    'min_samples_split': [5],\n",
    "    'min_samples_leaf': [1],\n",
    "    'max_features': ['sqrt']\n",
    "}\n",
    "\n",
    "# Set up GridSearchCV with cross-validation\n",
    "rf_tuned = RandomForestRegressor()#random_state=42) # Initialize Model\n",
    "grid_search = GridSearchCV( # Setup Grid Search\n",
    "    estimator=rf_tuned, # model\n",
    "    param_grid=param_grid, # param grid\n",
    "    cv=5, # nº of folds for cross-validation\n",
    "    scoring='neg_mean_absolute_error', # measures performance by negative MAE (This is because GridSearch wants to find the MAXIMUM value of the metric. By making it negative, we assure it will find the LOWEST MAE possible)\n",
    "    n_jobs=-1 # use all CPU cores possible\n",
    ")\n",
    "\n",
    "# Initialize grid Search \n",
    "grid_search.fit(X_full, y)\n",
    "\n",
    "# Get the best parameters and score\n",
    "print(\"Best parameters:\", grid_search.best_params_)\n",
    "print(\"Best MAE with optimal features:\", -grid_search.best_score_)"
   ]
  },
  {
   "cell_type": "markdown",
   "metadata": {},
   "source": [
    "**First Result:**  \n",
    "Best parameters: {'max_depth': 20, 'max_features': 'sqrt', 'min_samples_leaf': 1, 'min_samples_split': 5, 'n_estimators': 500}  \n",
    "Best MAE with optimal features: 16680.684353549375  \n",
    "\n",
    "**Second Result:**  \n",
    "Best parameters: {'max_depth': 30, 'max_features': 'sqrt', 'min_samples_leaf': 1, 'min_samples_split': 5, 'n_estimators': 900}  \n",
    "Best MAE with optimal features: 16635.980042080417  \n"
   ]
  },
  {
   "cell_type": "markdown",
   "metadata": {},
   "source": [
    "## Final Model:"
   ]
  },
  {
   "cell_type": "code",
   "execution_count": 31,
   "metadata": {},
   "outputs": [
    {
     "name": "stdout",
     "output_type": "stream",
     "text": [
      "Mean Squared Error with specified parameters on full features: 859448941.9232883\n"
     ]
    }
   ],
   "source": [
    "# Define the model with Optimal hyperparameters\n",
    "finalModel = RandomForestRegressor(\n",
    "    max_depth=30,\n",
    "    max_features='sqrt',\n",
    "    min_samples_leaf=1,\n",
    "    min_samples_split=5,\n",
    "    n_estimators=900,\n",
    ")\n",
    "\n",
    "# Perform cross-validation to estimate MAE\n",
    "kf = KFold(n_splits=5, shuffle=True)  # Cross-validation setup\n",
    "\n",
    "#Train Model\n",
    "mse_scores = -cross_val_score(finalModel, X_full, y, cv=kf, scoring='neg_mean_squared_error')\n",
    "\n",
    "# Print the mean MAE across folds\n",
    "print(\"Mean Squared Error with specified parameters on full features:\", np.mean(mse_scores))"
   ]
  }
 ],
 "metadata": {
  "kernelspec": {
   "display_name": "Python 3",
   "language": "python",
   "name": "python3"
  },
  "language_info": {
   "codemirror_mode": {
    "name": "ipython",
    "version": 3
   },
   "file_extension": ".py",
   "mimetype": "text/x-python",
   "name": "python",
   "nbconvert_exporter": "python",
   "pygments_lexer": "ipython3",
   "version": "3.12.3"
  }
 },
 "nbformat": 4,
 "nbformat_minor": 2
}
